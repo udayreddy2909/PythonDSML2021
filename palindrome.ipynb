{
  "nbformat": 4,
  "nbformat_minor": 0,
  "metadata": {
    "colab": {
      "name": "palindrome.ipynb",
      "provenance": [],
      "authorship_tag": "ABX9TyM28rX3CEKVQp1L/QWQhcNk",
      "include_colab_link": true
    },
    "kernelspec": {
      "name": "python3",
      "display_name": "Python 3"
    },
    "accelerator": "GPU"
  },
  "cells": [
    {
      "cell_type": "markdown",
      "metadata": {
        "id": "view-in-github",
        "colab_type": "text"
      },
      "source": [
        "<a href=\"https://colab.research.google.com/github/udayreddy2909/PythonDSML2021/blob/main/palindrome.ipynb\" target=\"_parent\"><img src=\"https://colab.research.google.com/assets/colab-badge.svg\" alt=\"Open In Colab\"/></a>"
      ]
    },
    {
      "cell_type": "code",
      "metadata": {
        "colab": {
          "base_uri": "https://localhost:8080/"
        },
        "id": "-oSK18flo0ED",
        "outputId": "19bbb119-c2aa-4e1e-af44-420c4d43c77c"
      },
      "source": [
        "x=int(input())\r\n",
        "a=x\r\n",
        "rev=0\r\n",
        "y=str(x)\r\n",
        "for i in range (0,len(y)):\r\n",
        "  r=x%10\r\n",
        "  rev=rev*10+r\r\n",
        "  x=x//10\r\n",
        "if(rev==a):\r\n",
        "  print(\"palindrome\")\r\n",
        "else:\r\n",
        "  print(\"not palindrome\")"
      ],
      "execution_count": 3,
      "outputs": [
        {
          "output_type": "stream",
          "text": [
            "121\n",
            "palindrome\n"
          ],
          "name": "stdout"
        }
      ]
    },
    {
      "cell_type": "code",
      "metadata": {
        "id": "3kqTI6L_qmHI"
      },
      "source": [
        ""
      ],
      "execution_count": null,
      "outputs": []
    }
  ]
}